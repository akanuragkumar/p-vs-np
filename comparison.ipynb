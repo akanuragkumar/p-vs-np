{
 "cells": [
  {
   "cell_type": "code",
   "execution_count": 1,
   "metadata": {
    "collapsed": true
   },
   "outputs": [],
   "source": [
    "import json"
   ]
  },
  {
   "cell_type": "code",
   "execution_count": 2,
   "metadata": {
    "collapsed": false
   },
   "outputs": [],
   "source": [
    "# load cities\n",
    "with open('cities.json') as json_data:\n",
    "    cities = json.load(json_data)"
   ]
  },
  {
   "cell_type": "code",
   "execution_count": 3,
   "metadata": {
    "collapsed": false
   },
   "outputs": [],
   "source": [
    "# import classical nearest neighbour\n",
    "from nearest_neighbour import *"
   ]
  },
  {
   "cell_type": "code",
   "execution_count": 4,
   "metadata": {
    "collapsed": false,
    "scrolled": false
   },
   "outputs": [
    {
     "name": "stdout",
     "output_type": "stream",
     "text": [
      "Start:  Z\n",
      "Solution not found\n",
      "Start:  KA\n",
      "Solution not found\n",
      "Start:  N\n",
      "Solution found:  ['N', 'M', 'UL', 'RV', 'Z', 'BE', 'BA', 'KA', 'S', 'MA', 'F', 'N']\n",
      "Distance:  1351\n",
      "Start:  UL\n",
      "Solution found:  ['UL', 'RV', 'Z', 'BE', 'BA', 'KA', 'S', 'MA', 'F', 'N', 'M', 'UL']\n",
      "Distance:  1351\n",
      "Start:  M\n",
      "Solution found:  ['M', 'UL', 'RV', 'Z', 'BE', 'BA', 'KA', 'S', 'MA', 'F', 'N', 'M']\n",
      "Distance:  1351\n",
      "Start:  S\n",
      "Solution not found\n",
      "Start:  MA\n",
      "Solution not found\n",
      "Start:  RV\n",
      "Solution not found\n",
      "Start:  BE\n",
      "Solution not found\n",
      "Start:  BA\n",
      "Solution not found\n",
      "Start:  F\n",
      "Solution not found\n"
     ]
    }
   ],
   "source": [
    "# test classical nearest neighbour algorithm for all cities \n",
    "for city in cities:\n",
    "    print(\"Start: \", city)\n",
    "    if not shortest_path_nn(city, cities, []):\n",
    "        print(\"Solution not found\")\n"
   ]
  },
  {
   "cell_type": "markdown",
   "metadata": {},
   "source": [
    "Classical nearest neighbour algorithm finds a solution for only 3 of the 11 cities. We can do better if we take the approach of finding a path recursively. Instead of trying all possible routes, we will go the closest unvisited city if one exists. Once we have found a solution, we will stop the recursion."
   ]
  },
  {
   "cell_type": "code",
   "execution_count": 5,
   "metadata": {
    "collapsed": false
   },
   "outputs": [
    {
     "name": "stdout",
     "output_type": "stream",
     "text": [
      "Recursive nearest neighbour:\n",
      "Start: Z\n",
      "Solution: ['Z', 'BE', 'BA', 'KA', 'S', 'MA', 'F', 'N', 'M', 'UL', 'RV', 'Z']\n",
      "Distance: 1351\n",
      "Start: KA\n",
      "Solution: ['KA', 'S', 'MA', 'F', 'N', 'M', 'UL', 'RV', 'Z', 'BE', 'BA', 'KA']\n",
      "Distance: 1351\n",
      "Start: N\n",
      "Solution: ['N', 'M', 'UL', 'RV', 'Z', 'BE', 'BA', 'KA', 'S', 'MA', 'F', 'N']\n",
      "Distance: 1351\n",
      "Start: UL\n",
      "Solution: ['UL', 'RV', 'Z', 'BE', 'BA', 'KA', 'S', 'MA', 'F', 'N', 'M', 'UL']\n",
      "Distance: 1351\n",
      "Start: M\n",
      "Solution: ['M', 'UL', 'RV', 'Z', 'BE', 'BA', 'KA', 'S', 'MA', 'F', 'N', 'M']\n",
      "Distance: 1351\n",
      "Start: S\n",
      "Solution: ['S', 'KA', 'BA', 'BE', 'Z', 'RV', 'UL', 'M', 'N', 'MA', 'F', 'S']\n",
      "Distance: 1461\n",
      "Start: MA\n",
      "Solution: ['MA', 'KA', 'BA', 'BE', 'Z', 'RV', 'UL', 'M', 'N', 'S', 'F', 'MA']\n",
      "Distance: 1444\n",
      "Start: RV\n",
      "Solution: ['RV', 'UL', 'M', 'N', 'S', 'F', 'MA', 'KA', 'BA', 'BE', 'Z', 'RV']\n",
      "Distance: 1444\n",
      "Start: BE\n",
      "Solution: ['BE', 'BA', 'KA', 'S', 'MA', 'F', 'N', 'M', 'UL', 'RV', 'Z', 'BE']\n",
      "Distance: 1351\n",
      "Start: BA\n",
      "Solution: ['BA', 'BE', 'Z', 'RV', 'UL', 'M', 'N', 'S', 'F', 'MA', 'KA', 'BA']\n",
      "Distance: 1444\n",
      "Start: F\n",
      "Solution: ['F', 'MA', 'KA', 'BA', 'BE', 'Z', 'RV', 'UL', 'M', 'N', 'S', 'F']\n",
      "Distance: 1444\n"
     ]
    }
   ],
   "source": [
    "# test recursive nearest neighbour algorithm\n",
    "\n",
    "from nearest_neighbour_tweaked import *\n",
    "\n",
    "# Sort distances from each city\n",
    "citiesSorted = cities_sorted(cities)\n",
    "\n",
    "print(\"Recursive nearest neighbour:\")\n",
    "for city in cities:\n",
    "    unsolved()\n",
    "    print(\"Start:\", city)\n",
    "    shortest_path_nn_rec(city, cities, citiesSorted, [], 0)"
   ]
  },
  {
   "cell_type": "markdown",
   "metadata": {},
   "source": [
    "We have a solution for all the cities! Let's compare our solutions with the real ones."
   ]
  },
  {
   "cell_type": "code",
   "execution_count": 6,
   "metadata": {
    "collapsed": false
   },
   "outputs": [
    {
     "name": "stdout",
     "output_type": "stream",
     "text": [
      "Start: Z\n",
      "Best solution: ['Z', 'BE', 'BA', 'KA', 'S', 'MA', 'F', 'N', 'M', 'UL', 'RV', 'Z']\n",
      "Distance: 1351\n",
      "Start: KA\n",
      "Best solution: ['KA', 'S', 'MA', 'F', 'N', 'M', 'UL', 'RV', 'Z', 'BE', 'BA', 'KA']\n",
      "Distance: 1351\n",
      "Start: N\n",
      "Best solution: ['N', 'M', 'UL', 'RV', 'Z', 'BE', 'BA', 'KA', 'S', 'MA', 'F', 'N']\n",
      "Distance: 1351\n",
      "Start: UL\n",
      "Best solution: ['UL', 'RV', 'Z', 'BE', 'BA', 'KA', 'S', 'MA', 'F', 'N', 'M', 'UL']\n",
      "Distance: 1351\n",
      "Start: M\n",
      "Best solution: ['M', 'UL', 'RV', 'Z', 'BE', 'BA', 'KA', 'S', 'MA', 'F', 'N', 'M']\n",
      "Distance: 1351\n",
      "Start: S\n",
      "Best solution: ['S', 'MA', 'F', 'N', 'M', 'UL', 'RV', 'Z', 'BE', 'BA', 'KA', 'S']\n",
      "Distance: 1351\n",
      "Start: MA\n",
      "Best solution: ['MA', 'F', 'N', 'M', 'UL', 'RV', 'Z', 'BE', 'BA', 'KA', 'S', 'MA']\n",
      "Distance: 1351\n",
      "Start: RV\n",
      "Best solution: ['RV', 'Z', 'BE', 'BA', 'KA', 'S', 'MA', 'F', 'N', 'M', 'UL', 'RV']\n",
      "Distance: 1351\n",
      "Start: BE\n",
      "Best solution: ['BE', 'BA', 'KA', 'S', 'MA', 'F', 'N', 'M', 'UL', 'RV', 'Z', 'BE']\n",
      "Distance: 1351\n",
      "Start: BA\n",
      "Best solution: ['BA', 'KA', 'S', 'MA', 'F', 'N', 'M', 'UL', 'RV', 'Z', 'BE', 'BA']\n",
      "Distance: 1351\n",
      "Start: F\n",
      "Best solution: ['F', 'N', 'M', 'UL', 'RV', 'Z', 'BE', 'BA', 'KA', 'S', 'MA', 'F']\n",
      "Distance: 1351\n"
     ]
    }
   ],
   "source": [
    "bestRoute = []\n",
    "bestDistance = -1\n",
    "\n",
    "def best_path(node, cities, path, distance):\n",
    "    # Add way point\n",
    "    path.append(node)\n",
    "\n",
    "    # Calculate path length from current to last node\n",
    "    if len(path) > 1:\n",
    "        distance += cities[path[-2]][node]\n",
    "\n",
    "    # If path contains all cities and is not a dead end,\n",
    "    # add path from last to first city and return.\n",
    "    if (len(cities) == len(path)) and (path[0] in cities[path[-1]]):\n",
    "        global bestDistance\n",
    "        global bestRoute\n",
    "        path.append(path[0])\n",
    "        distance += cities[path[-2]][path[0]]\n",
    "        if (bestDistance == -1) or (distance < bestDistance):\n",
    "            bestDistance = distance\n",
    "            bestRoute = path\n",
    "        return\n",
    "\n",
    "    # Fork paths for all possible cities not yet used\n",
    "    for city in cities:\n",
    "        if (city not in path) and (node in cities[city]):\n",
    "            best_path(city, dict(cities), list(path), distance)\n",
    "            \n",
    "for city in cities:\n",
    "    bestRout = []\n",
    "    bestDistance = -1\n",
    "    best_path(city, cities, [], 0)\n",
    "    print(\"Start:\", city)\n",
    "    print(\"Best solution:\", bestRoute)\n",
    "    print(\"Distance:\", bestDistance)"
   ]
  },
  {
   "cell_type": "markdown",
   "metadata": {},
   "source": [
    "It turns out that we have the corect solutions for 6 of the 11 cities and the error is 482. We can do even better!\n",
    "2-opt is a local search algorithm which was proposed for solving the travelling salesman problem in 1958."
   ]
  },
  {
   "cell_type": "code",
   "execution_count": 7,
   "metadata": {
    "collapsed": false
   },
   "outputs": [
    {
     "name": "stdout",
     "output_type": "stream",
     "text": [
      "Start: Z\n",
      "Solution: ['Z', 'BE', 'BA', 'KA', 'S', 'MA', 'F', 'N', 'M', 'UL', 'RV', 'Z']\n",
      "Distance: 1351\n",
      "No better solution found :(\n",
      "Start: KA\n",
      "Solution: ['KA', 'S', 'MA', 'F', 'N', 'M', 'UL', 'RV', 'Z', 'BE', 'BA', 'KA']\n",
      "Distance: 1351\n",
      "No better solution found :(\n",
      "Start: N\n",
      "Solution: ['N', 'M', 'UL', 'RV', 'Z', 'BE', 'BA', 'KA', 'S', 'MA', 'F', 'N']\n",
      "Distance: 1351\n",
      "No better solution found :(\n",
      "Start: UL\n",
      "Solution: ['UL', 'RV', 'Z', 'BE', 'BA', 'KA', 'S', 'MA', 'F', 'N', 'M', 'UL']\n",
      "Distance: 1351\n",
      "No better solution found :(\n",
      "Start: M\n",
      "Solution: ['M', 'UL', 'RV', 'Z', 'BE', 'BA', 'KA', 'S', 'MA', 'F', 'N', 'M']\n",
      "Distance: 1351\n",
      "No better solution found :(\n",
      "Start: S\n",
      "Solution: ['S', 'KA', 'BA', 'BE', 'Z', 'RV', 'UL', 'M', 'N', 'MA', 'F', 'S']\n",
      "Distance: 1461\n",
      "Better solution found: ['S', 'N', 'M', 'UL', 'RV', 'Z', 'BE', 'BA', 'KA', 'MA', 'F', 'S']\n",
      "Distance: 1409\n",
      "Start: MA\n",
      "Solution: ['MA', 'KA', 'BA', 'BE', 'Z', 'RV', 'UL', 'M', 'N', 'S', 'F', 'MA']\n",
      "Distance: 1444\n",
      "Better solution found: ['MA', 'N', 'M', 'UL', 'RV', 'Z', 'BE', 'BA', 'KA', 'S', 'F', 'MA']\n",
      "Distance: 1426\n",
      "Start: RV\n",
      "Solution: ['RV', 'UL', 'M', 'N', 'S', 'F', 'MA', 'KA', 'BA', 'BE', 'Z', 'RV']\n",
      "Distance: 1444\n",
      "No better solution found :(\n",
      "Start: BE\n",
      "Solution: ['BE', 'BA', 'KA', 'S', 'MA', 'F', 'N', 'M', 'UL', 'RV', 'Z', 'BE']\n",
      "Distance: 1351\n",
      "No better solution found :(\n",
      "Start: BA\n",
      "Solution: ['BA', 'BE', 'Z', 'RV', 'UL', 'M', 'N', 'S', 'F', 'MA', 'KA', 'BA']\n",
      "Distance: 1444\n",
      "No better solution found :(\n",
      "Start: F\n",
      "Solution: ['F', 'MA', 'KA', 'BA', 'BE', 'Z', 'RV', 'UL', 'M', 'N', 'S', 'F']\n",
      "Distance: 1444\n",
      "Better solution found: ['F', 'MA', 'N', 'M', 'UL', 'RV', 'Z', 'BE', 'BA', 'KA', 'S', 'F']\n",
      "Distance: 1426\n"
     ]
    }
   ],
   "source": [
    "# test 2opt\n",
    "\n",
    "from two_opt import *\n",
    "\n",
    "for city in cities:\n",
    "    unsolved()\n",
    "    print(\"Start:\", city)\n",
    "    shortest_path_nn_rec(city, cities, citiesSorted, [], 0)\n",
    "    path = get_nn_solution()\n",
    "    two_opt(path, cities)\n"
   ]
  },
  {
   "cell_type": "markdown",
   "metadata": {},
   "source": [
    "We have reduced the error to 394."
   ]
  },
  {
   "cell_type": "code",
   "execution_count": null,
   "metadata": {
    "collapsed": true
   },
   "outputs": [],
   "source": []
  }
 ],
 "metadata": {
  "kernelspec": {
   "display_name": "Python 3",
   "language": "python",
   "name": "python3"
  },
  "language_info": {
   "codemirror_mode": {
    "name": "ipython",
    "version": 3
   },
   "file_extension": ".py",
   "mimetype": "text/x-python",
   "name": "python",
   "nbconvert_exporter": "python",
   "pygments_lexer": "ipython3",
   "version": "3.5.2"
  }
 },
 "nbformat": 4,
 "nbformat_minor": 1
}
